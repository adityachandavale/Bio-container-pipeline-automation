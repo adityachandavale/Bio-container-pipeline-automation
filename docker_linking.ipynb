{
 "cells": [
  {
   "cell_type": "code",
   "execution_count": 11,
   "metadata": {},
   "outputs": [],
   "source": [
    "import docker\n",
    "client = docker.from_env()"
   ]
  },
  {
   "cell_type": "code",
   "execution_count": 12,
   "metadata": {},
   "outputs": [
    {
     "output_type": "execute_result",
     "data": {
      "text/plain": [
       "b'Hello world\\n'"
      ]
     },
     "metadata": {},
     "execution_count": 12
    }
   ],
   "source": [
    "client.containers.run('336d8edb337f',\"echo Hello world\")"
   ]
  },
  {
   "cell_type": "code",
   "execution_count": 6,
   "metadata": {},
   "outputs": [
    {
     "output_type": "execute_result",
     "data": {
      "text/plain": [
       "[<Image: 'quay.io/biocontainers/stringtie:1.3.3b--h2e03b76_1'>,\n",
       " <Image: 'quay.io/biocontainers/bioconductor-deseq2:1.30.1--r40h399db7b_0'>,\n",
       " <Image: 'quay.io/biocontainers/hisat2:2.2.1--h1b792b2_3'>,\n",
       " <Image: 'quay.io/biocontainers/fastx_toolkit:0.0.14--he1b5a44_8'>]"
      ]
     },
     "metadata": {},
     "execution_count": 6
    }
   ],
   "source": [
    "client.images.list()"
   ]
  },
  {
   "cell_type": "code",
   "execution_count": 18,
   "metadata": {},
   "outputs": [
    {
     "output_type": "stream",
     "name": "stdout",
     "text": [
      "b'Hello from DeSeq2\\n'\n"
     ]
    }
   ],
   "source": [
    "a  = None\n",
    "b = None \n",
    "c = None\n",
    "ch = int(input('Enter a choice for container:\\n1. Hisat2\\n2. Stringtie\\n3. DeSeq2'))\n",
    "if ch == 1:\n",
    "    a = client.containers.run('336d8edb337f',\"echo Hello from Hisat2\")\n",
    "    print(a)\n",
    "if ch == 2:\n",
    "    b = client.containers.run('3aec4555231e',\"echo Hello from Stringtie\")\n",
    "    print(b)\n",
    "if ch == 3:\n",
    "    c = client.containers.run('8d620dc67af7',\"echo Hello from DeSeq2\")\n",
    "    print(c)"
   ]
  },
  {
   "source": [
    "# Manual Mode"
   ],
   "cell_type": "markdown",
   "metadata": {}
  },
  {
   "cell_type": "code",
   "execution_count": 11,
   "metadata": {},
   "outputs": [
    {
     "output_type": "stream",
     "name": "stdout",
     "text": [
      "0\n",
      "Bioconda executed 1 times\n",
      "Bioconda executed 0 times\n",
      "Bioconda executed 0 times\n",
      "Bioconda executed 0 times\n",
      "Total executions 1\n"
     ]
    }
   ],
   "source": [
    "import docker\n",
    "import os\n",
    "\n",
    "class Exec:\n",
    "    client = docker.from_env()\n",
    "    input_command = None\n",
    "    cnt = 0\n",
    "    cnt_bioconda = 0\n",
    "    cnt_hisat2 = 0\n",
    "    cnt_stringtie = 0\n",
    "    cnt_deseq2 = 0\n",
    "    \n",
    "    f = open(\"/home/aditya/Documents/MSC-DS/Sem3/Bio-container-pipeline-automation/outputs/counter.txt\",\"r\")\n",
    "    a = f.read()\n",
    "    b = int(a)+1\n",
    "\n",
    "    f1 = open(\"/home/aditya/Documents/MSC-DS/Sem3/Bio-container-pipeline-automation/outputs/counter.txt\",\"w\")\n",
    "    f1.write(str(b))\n",
    "    f1.close()\n",
    "\n",
    "    os.chdir(\"/home/aditya/Documents/MSC-DS/Sem3/Bio-container-pipeline-automation/outputs\")\n",
    "    f_name = \"output_genome\" + str(b)\n",
    "    current_name = \"/home/aditya/Documents/MSC-DS/Sem3/Bio-container-pipeline-automation/outputs\"\n",
    "    os.mkdir(os.path.join(current_name,f_name))\n",
    "    os.chdir(f_name)\n",
    "\n",
    "\n",
    "    def __init__(self):\n",
    "        while(1):\n",
    "\n",
    "            if self.cnt == 0:\n",
    "                function_input = input('Enter the Container to execute:')\n",
    "                if function_input == 'hisat2' or function_input == 'stringtie' or function_input == 'deseq2' or function_input == 'bioconda':\n",
    "                    self.printing_return(function_input)\n",
    "                    self.cnt += 1\n",
    "                else:\n",
    "                    print(\"Wrong container name\\n enter again\")\n",
    "            else:\n",
    "                input_choice = input('Do you want to execute another container?\\n y / n\\n')\n",
    "                if input_choice == 'y' or input_choice == 'Y':\n",
    "                    function_input = input('Enter the Container to execute:')\n",
    "                    self.printing_return(function_input)\n",
    "                    self.cnt += 1\n",
    "                else:\n",
    "                    print('Bioconda executed {} times'.format(self.cnt_bioconda))\n",
    "                    print('Bioconda executed {} times'.format(self.cnt_hisat2))\n",
    "                    print('Bioconda executed {} times'.format(self.cnt_stringtie))\n",
    "                    print('Bioconda executed {} times'.format(self.cnt_deseq2))\n",
    "\n",
    "                    break\n",
    "                    \n",
    "\n",
    "        print(\"Total executions\",self.cnt)\n",
    "                \n",
    "    def bioconda(self):\n",
    "        a = os.system(self.input_command)\n",
    "        self.cnt_bioconda =+ 1\n",
    "        return a\n",
    "\n",
    "    def hisat2(self):\n",
    "        a = self.client.containers.run('336d8edb337f',self.input_command)\n",
    "        self.cnt_hisat2 += 1\n",
    "        return a\n",
    "\n",
    "    def stringtie(self):\n",
    "        b = self.client.containers.run('3aec4555231e',self.input_command)\n",
    "        self.cnt_stringtie += 1\n",
    "        return b\n",
    "\n",
    "    def deseq2(self):\n",
    "        c = self.client.containers.run('8d620dc67af7',self.input_command)\n",
    "        self.cnt_deseq2 += 1\n",
    "        return c\n",
    "\n",
    "    def printing_return(self,fun):\n",
    "        self.input_command = input('Enter the Container Command')\n",
    "        if fun == 'hisat2':\n",
    "            output_hisat = self.hisat2()\n",
    "            print(output_hisat)\n",
    "        if fun == 'stringtie':\n",
    "            output_stringtie = self.stringtie()\n",
    "            print(output_stringtie)\n",
    "        if fun == 'deseq2':\n",
    "            output_deseq2 = self.deseq2()\n",
    "            print(output_deseq2)\n",
    "        if fun == 'bioconda':\n",
    "            output_bioconda = self.bioconda()\n",
    "            print(output_bioconda)\n",
    "\n",
    "class Test:\n",
    "    a = Exec()"
   ]
  },
  {
   "cell_type": "code",
   "execution_count": null,
   "metadata": {},
   "outputs": [],
   "source": [
    "hisat2-build '/home/aditya/Documents/MSC-DS/Sem3/Bio-container-pipeline-automation/testing_files/sample.fasta'  genome -p 2\n",
    "hisat2 -x genome -U '/home/aditya/Documents/MSC-DS/Sem3/MiniProject/testing_files/genome.fastq' --threads 2 --no-unal -S '/home/aditya/Documents/MSC-DS/Sem3/MiniProject/outputs/output.sam'"
   ]
  }
 ],
 "metadata": {
  "kernelspec": {
   "name": "python385jvsc74a57bd07b9569140d99d56f18a75135eb8a624439e86e9b615bd911525c395d062533e1",
   "display_name": "Python 3.8.5 64-bit ('base': conda)",
   "language": "python"
  },
  "language_info": {
   "codemirror_mode": {
    "name": "ipython",
    "version": 3
   },
   "file_extension": ".py",
   "mimetype": "text/x-python",
   "name": "python",
   "nbconvert_exporter": "python",
   "pygments_lexer": "ipython3",
   "version": "3.8.5-final"
  },
  "metadata": {
   "interpreter": {
    "hash": "7b9569140d99d56f18a75135eb8a624439e86e9b615bd911525c395d062533e1"
   }
  }
 },
 "nbformat": 4,
 "nbformat_minor": 4
}