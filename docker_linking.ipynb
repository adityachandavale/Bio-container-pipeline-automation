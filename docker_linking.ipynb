{
 "cells": [
  {
   "cell_type": "code",
   "execution_count": null,
   "metadata": {},
   "outputs": [],
   "source": [
    "import docker\n",
    "client = docker.from_env()"
   ]
  },
  {
   "cell_type": "code",
   "execution_count": null,
   "metadata": {},
   "outputs": [],
   "source": [
    "client.containers.run('336d8edb337f',\"echo Hello world\")"
   ]
  },
  {
   "cell_type": "code",
   "execution_count": null,
   "metadata": {},
   "outputs": [],
   "source": [
    "client.images.list()"
   ]
  },
  {
   "cell_type": "code",
   "execution_count": null,
   "metadata": {},
   "outputs": [],
   "source": [
    "a  = None\n",
    "b = None \n",
    "c = None\n",
    "ch = int(input('Enter a choice for container:\\n1. Hisat2\\n2. Stringtie\\n3. DeSeq2'))\n",
    "if ch == 1:\n",
    "    a = client.containers.run('336d8edb337f',\"echo Hello from Hisat2\")\n",
    "    print(a)\n",
    "if ch == 2:\n",
    "    b = client.containers.run('3aec4555231e',\"echo Hello from Stringtie\")\n",
    "    print(b)\n",
    "if ch == 3:\n",
    "    c = client.containers.run('8d620dc67af7',\"echo Hello from DeSeq2\")\n",
    "    print(c)"
   ]
  },
  {
   "cell_type": "markdown",
   "metadata": {},
   "source": [
    "# Manual Mode"
   ]
  },
  {
   "cell_type": "code",
   "execution_count": null,
   "metadata": {},
   "outputs": [],
   "source": [
    "import os\n",
    "import os.path\n",
    "import logging\n",
    "import time\n",
    "\n",
    "from lib.hisat2_docker import hisat2\n",
    "from lib.stringtie_docker import stringtie\n",
    "from lib.deseq2_docker import deseq2\n",
    "from lib.bioconda_py import bioconda\n",
    "from lib.fastx_toolkit_docker import fastx_toolkit\n",
    "\n",
    "class Exec:\n",
    "    # Appending to log file for execution status.\n",
    "    log = open(\"logs/manual_mode_execution.txt\",\"a\")\n",
    "    log.write(\"\\nExecution start time: [ {} ]\".format(str(time.time())))\n",
    "\n",
    "    # Declaring Input command to be used for the respectively invoked Container\n",
    "    input_command = None\n",
    "    \n",
    "    # Declaring counters for execution tracking\n",
    "    cnt = 0\n",
    "    cnt_bioconda = 0\n",
    "    cnt_hisat2 = 0\n",
    "    cnt_stringtie = 0\n",
    "    cnt_deseq2 = 0\n",
    "    cnt_fastx = 0\n",
    "    \n",
    "    # Changing path to Output directory\n",
    "    path = os.path.abspath(os.path.join(os.getcwd(),'outputs'))\n",
    "    os.chdir(path)\n",
    "    \n",
    "    # Reading counter number previously appended to file\n",
    "    f = open(\"counter.txt\",\"r\")\n",
    "    a = f.read()\n",
    "    b = int(a)+1\n",
    "\n",
    "    # Writing a new number to be appended to current file.\n",
    "    f1 = open(\"counter.txt\",\"w\")\n",
    "    f1.write(str(b))\n",
    "    f1.close()\n",
    "\n",
    "    f_name = \"output_genome\" + str(b) # new appended folder name\n",
    "    os.mkdir(f_name) # create folder\n",
    "    log.write(\"\\nOutput folder name: {}\".format(f_name))\n",
    "    os.chdir(f_name) # Change program execution folder to newly created folder\n",
    "\n",
    "\n",
    "    def __init__(self):\n",
    "        while(1):\n",
    "\n",
    "            if self.cnt == 0:\n",
    "                function_input = input('Enter the Name of the Container to execute: ')\n",
    "                self.log.write(\"\\nName of container executed: {}\".format(function_input))\n",
    "\n",
    "                if function_input == 'hisat2' or function_input == 'stringtie' or function_input == 'deseq2' or function_input == 'bioconda' or function_input == 'fastx_toolkit':\n",
    "                    self.printing_return(function_input)\n",
    "                    self.cnt += 1\n",
    "                else:\n",
    "                    print(\"Wrong container name\\n enter again \")\n",
    "                    self.log.write(\"\\nError: Wrong container name specified.\")\n",
    "                    \n",
    "            else:\n",
    "                input_choice = input('Do you want to execute another container?\\n y / n\\n')\n",
    "                if input_choice == 'y' or input_choice == 'Y':\n",
    "                    function_input = input('Enter the Name of the Container to execute: ')\n",
    "                    self.log.write(\"\\nAnother container executed\\nname of container is: {}\".format(function_input))\n",
    "                    if function_input == 'hisat2' or function_input == 'stringtie' or function_input == 'deseq2' or function_input == 'bioconda' or function_input == 'fastx_toolkit':\n",
    "                        self.printing_return(function_input)\n",
    "                        self.cnt += 1\n",
    "                    else:\n",
    "                        print(\"Wrong container name\\n enter again \")\n",
    "                        self.log.write(\"\\nError: Wrong container name specified.\")\n",
    "                else:\n",
    "                    self.log.write('\\nBioconda executed {} times'.format(self.cnt_bioconda))\n",
    "                    self.log.write('\\nhisat2 executed {} times'.format(self.cnt_hisat2))\n",
    "                    self.log.write('\\nstringtie executed {} times'.format(self.cnt_stringtie))\n",
    "                    self.log.write('\\ndeseq2 executed {} times'.format(self.cnt_deseq2))\n",
    "                    self.log.write('\\nfastx_toolkit executed {} times'.format(self.cnt_fastx))\n",
    "\n",
    "                    break\n",
    "                    \n",
    "        self.log.write(\"\\nTotal executions {}\".format(self.cnt))             \n",
    "        self.log.write(\"\\n\\nExecution end time: [ {} ]\".format(str(time.time())))\n",
    "\n",
    "    def printing_return(self,fun):\n",
    "        self.input_command = input('Enter the Container Command: ')\n",
    "        self.log.write('\\nContainer command used: {}'.format(self.input_command))\n",
    "\n",
    "        if fun == 'hisat2':\n",
    "            output_hisat = hisat2(self.input_command)\n",
    "            self.cnt_hisat2 += 1\n",
    "            print(output_hisat)\n",
    "        if fun == 'stringtie':\n",
    "            output_stringtie = stringtie(self.input_command)\n",
    "            self.cnt_stringtie += 1\n",
    "            print(output_stringtie)\n",
    "        if fun == 'deseq2':\n",
    "            output_deseq2 = deseq2(self.input_command)\n",
    "            self.cnt_deseq2 += 1\n",
    "            print(output_deseq2)\n",
    "        if fun == 'fastx_toolkit':\n",
    "            output_fastx = fastx_toolkit(self.input_command)\n",
    "            self.cnt_fastx += 1\n",
    "            print(output_fastx)\n",
    "        if fun == 'bioconda':\n",
    "            output_bioconda = bioconda(self.input_command)\n",
    "            self.cnt_bioconda += 1\n",
    "            print(output_bioconda)\n",
    "\n",
    "class Test:\n",
    "    a = Exec()\n"
   ]
  },
  {
   "cell_type": "markdown",
   "metadata": {},
   "source": [
    "# BioConda:\n",
    "hisat2-build '/home/aditya/Documents/MSC-DS/Sem3/Bio-container-pipeline-automation/testing_files/sample.fna'  genome -p 2<br>\n",
    "hisat2 -x genome -U '/home/aditya/Documents/MSC-DS/Sem3/MiniProject/testing_files/genome.fastq' --threads 2 --no-unal -S '/home/aditya/Documents/MSC-DS/Sem3/MiniProject/outputs/output.sam'\n",
    "# Docker:\n",
    "hisat2-build --wrapper basic-0 -p 2 /home/aditya/Documents/MSC-DS/Sem3/Bio-container-pipeline-automation/testing_files/sample.fna genome"
   ]
  },
  {
   "cell_type": "code",
   "execution_count": 1,
   "metadata": {},
   "outputs": [
    {
     "name": "stdout",
     "output_type": "stream",
     "text": [
      "<html><script>var person = prompt(Please enter your name);if (person == null || person == ) {txt = User cancelled the prompt.} else {txt = Hello  person ! How are you today?</script></html>Hi\n"
     ]
    },
    {
     "data": {
      "text/plain": [
       "'Hi'"
      ]
     },
     "execution_count": 1,
     "metadata": {},
     "output_type": "execute_result"
    }
   ],
   "source": [
    "input(\"<html><script>var person = prompt(Please enter your name);if (person == null || person == \"\") {txt = User cancelled the prompt.} else {txt = Hello  person ! How are you today?</script></html>\")"
   ]
  },
  {
   "cell_type": "code",
   "execution_count": 3,
   "metadata": {},
   "outputs": [
    {
     "name": "stdout",
     "output_type": "stream",
     "text": [
      "Content-type: text/html\n",
      "<html> \n",
      "<head><title>My first Python CGI app</title></head> \n",
      "<body> \n",
      "<p>Hello, 'world'!</p> \n",
      "</body> \n",
      "</html>\n"
     ]
    }
   ],
   "source": [
    "import cgi \n",
    "print(\"Content-type: text/html\" )\n",
    "print(\"\"\"<html> \n",
    "<head><title>My first Python CGI app</title></head> \n",
    "<body> \n",
    "<p>Hello, 'world'!</p> \n",
    "</body> \n",
    "</html>\"\"\" )"
   ]
  },
  {
   "cell_type": "code",
   "execution_count": 15,
   "metadata": {},
   "outputs": [
    {
     "name": "stdout",
     "output_type": "stream",
     "text": [
      "'function person_text() { [python code] }'\n"
     ]
    }
   ],
   "source": [
    "import js2py\n",
    "\n",
    "js = \"\"\"\n",
    "\n",
    "function person_text(){\n",
    "var person = prompt(\"Please enter your name\");\n",
    "if (person == null || person == \"\") {\n",
    "  txt = \"User cancelled the prompt.\";\n",
    "} else {\n",
    "  txt = \"Hello \" + person + \"! How are you today?\";\n",
    "}\n",
    "document.write(txt);\n",
    "}\n",
    "\"\"\".replace(\"document.write\",\"return\")\n",
    "`\n",
    "result = js2py.eval_js(js)\n",
    "\n",
    "print(result)"
   ]
  },
  {
   "cell_type": "code",
   "execution_count": 1,
   "metadata": {},
   "outputs": [
    {
     "output_type": "error",
     "ename": "SyntaxError",
     "evalue": "invalid syntax (<ipython-input-1-c008a8d0d1fa>, line 1)",
     "traceback": [
      "\u001b[0;36m  File \u001b[0;32m\"<ipython-input-1-c008a8d0d1fa>\"\u001b[0;36m, line \u001b[0;32m1\u001b[0m\n\u001b[0;31m    <input type=\"submit\" name=\"submit_button\" value=\"Do Something\">\u001b[0m\n\u001b[0m    ^\u001b[0m\n\u001b[0;31mSyntaxError\u001b[0m\u001b[0;31m:\u001b[0m invalid syntax\n"
     ]
    }
   ],
   "source": [
    "<input type=\"submit\" name=\"submit_button\" value=\"Do Something\">\n",
    "<input type=\"submit\" name=\"submit_button\" value=\"Do Something Else\">\n",
    "def contact():\n",
    "    if request.method == 'POST':\n",
    "        if request.form['submit_button'] == 'Do Something':\n",
    "            pass # do something\n",
    "        elif request.form['submit_button'] == 'Do Something Else':\n",
    "            pass # do something else\n",
    "        else:\n",
    "            pass # unknown\n",
    "    elif request.method == 'GET':\n",
    "        return render_template('contact.html', form=form)"
   ]
  }
 ],
 "metadata": {
  "kernelspec": {
   "name": "python385jvsc74a57bd07b9569140d99d56f18a75135eb8a624439e86e9b615bd911525c395d062533e1",
   "display_name": "Python 3.8.5 64-bit ('base': conda)"
  },
  "language_info": {
   "codemirror_mode": {
    "name": "ipython",
    "version": 3
   },
   "file_extension": ".py",
   "mimetype": "text/x-python",
   "name": "python",
   "nbconvert_exporter": "python",
   "pygments_lexer": "ipython3",
   "version": "3.8.5"
  },
  "metadata": {
   "interpreter": {
    "hash": "7b9569140d99d56f18a75135eb8a624439e86e9b615bd911525c395d062533e1"
   }
  }
 },
 "nbformat": 4,
 "nbformat_minor": 4
}