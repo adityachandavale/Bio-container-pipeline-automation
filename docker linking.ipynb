{
 "cells": [
  {
   "cell_type": "code",
   "execution_count": 11,
   "metadata": {},
   "outputs": [],
   "source": [
    "import docker\n",
    "client = docker.from_env()"
   ]
  },
  {
   "cell_type": "code",
   "execution_count": 12,
   "metadata": {},
   "outputs": [
    {
     "output_type": "execute_result",
     "data": {
      "text/plain": [
       "b'Hello world\\n'"
      ]
     },
     "metadata": {},
     "execution_count": 12
    }
   ],
   "source": [
    "client.containers.run('336d8edb337f',\"echo Hello world\")"
   ]
  },
  {
   "cell_type": "code",
   "execution_count": 6,
   "metadata": {},
   "outputs": [
    {
     "output_type": "execute_result",
     "data": {
      "text/plain": [
       "[<Image: 'quay.io/biocontainers/stringtie:1.3.3b--h2e03b76_1'>,\n",
       " <Image: 'quay.io/biocontainers/bioconductor-deseq2:1.30.1--r40h399db7b_0'>,\n",
       " <Image: 'quay.io/biocontainers/hisat2:2.2.1--h1b792b2_3'>,\n",
       " <Image: 'quay.io/biocontainers/fastx_toolkit:0.0.14--he1b5a44_8'>]"
      ]
     },
     "metadata": {},
     "execution_count": 6
    }
   ],
   "source": [
    "client.images.list()"
   ]
  },
  {
   "cell_type": "code",
   "execution_count": 18,
   "metadata": {},
   "outputs": [
    {
     "output_type": "stream",
     "name": "stdout",
     "text": [
      "b'Hello from DeSeq2\\n'\n"
     ]
    }
   ],
   "source": [
    "a  = None\n",
    "b = None \n",
    "c = None\n",
    "ch = int(input('Enter a choice for container:\\n1. Hisat2\\n2. Stringtie\\n3. DeSeq2'))\n",
    "if ch == 1:\n",
    "    a = client.containers.run('336d8edb337f',\"echo Hello from Hisat2\")\n",
    "    print(a)\n",
    "if ch == 2:\n",
    "    b = client.containers.run('3aec4555231e',\"echo Hello from Stringtie\")\n",
    "    print(b)\n",
    "if ch == 3:\n",
    "    c = client.containers.run('8d620dc67af7',\"echo Hello from DeSeq2\")\n",
    "    print(c)"
   ]
  },
  {
   "cell_type": "code",
   "execution_count": 8,
   "metadata": {},
   "outputs": [
    {
     "output_type": "stream",
     "name": "stdout",
     "text": [
      "Wrong container name\n enter again\n"
     ]
    },
    {
     "output_type": "error",
     "ename": "KeyboardInterrupt",
     "evalue": "Interrupted by user",
     "traceback": [
      "\u001b[0;31m---------------------------------------------------------------------------\u001b[0m",
      "\u001b[0;31mKeyboardInterrupt\u001b[0m                         Traceback (most recent call last)",
      "\u001b[0;32m<ipython-input-8-4417c4ae6bae>\u001b[0m in \u001b[0;36m<module>\u001b[0;34m\u001b[0m\n\u001b[1;32m     56\u001b[0m             \u001b[0mprint\u001b[0m\u001b[0;34m(\u001b[0m\u001b[0;34m\"Wrong container\"\u001b[0m\u001b[0;34m)\u001b[0m\u001b[0;34m\u001b[0m\u001b[0;34m\u001b[0m\u001b[0m\n\u001b[1;32m     57\u001b[0m \u001b[0;34m\u001b[0m\u001b[0m\n\u001b[0;32m---> 58\u001b[0;31m \u001b[0;32mclass\u001b[0m \u001b[0mTest\u001b[0m\u001b[0;34m:\u001b[0m\u001b[0;34m\u001b[0m\u001b[0;34m\u001b[0m\u001b[0m\n\u001b[0m\u001b[1;32m     59\u001b[0m     \u001b[0ma\u001b[0m \u001b[0;34m=\u001b[0m \u001b[0mExec\u001b[0m\u001b[0;34m(\u001b[0m\u001b[0;34m)\u001b[0m\u001b[0;34m\u001b[0m\u001b[0;34m\u001b[0m\u001b[0m\n",
      "\u001b[0;32m<ipython-input-8-4417c4ae6bae>\u001b[0m in \u001b[0;36mTest\u001b[0;34m()\u001b[0m\n\u001b[1;32m     57\u001b[0m \u001b[0;34m\u001b[0m\u001b[0m\n\u001b[1;32m     58\u001b[0m \u001b[0;32mclass\u001b[0m \u001b[0mTest\u001b[0m\u001b[0;34m:\u001b[0m\u001b[0;34m\u001b[0m\u001b[0;34m\u001b[0m\u001b[0m\n\u001b[0;32m---> 59\u001b[0;31m     \u001b[0ma\u001b[0m \u001b[0;34m=\u001b[0m \u001b[0mExec\u001b[0m\u001b[0;34m(\u001b[0m\u001b[0;34m)\u001b[0m\u001b[0;34m\u001b[0m\u001b[0;34m\u001b[0m\u001b[0m\n\u001b[0m",
      "\u001b[0;32m<ipython-input-8-4417c4ae6bae>\u001b[0m in \u001b[0;36m__init__\u001b[0;34m(self)\u001b[0m\n\u001b[1;32m      9\u001b[0m         \u001b[0;32mwhile\u001b[0m\u001b[0;34m(\u001b[0m\u001b[0;36m1\u001b[0m\u001b[0;34m)\u001b[0m\u001b[0;34m:\u001b[0m\u001b[0;34m\u001b[0m\u001b[0;34m\u001b[0m\u001b[0m\n\u001b[1;32m     10\u001b[0m             \u001b[0;32mif\u001b[0m \u001b[0mself\u001b[0m\u001b[0;34m.\u001b[0m\u001b[0mcnt\u001b[0m \u001b[0;34m==\u001b[0m \u001b[0;36m0\u001b[0m\u001b[0;34m:\u001b[0m\u001b[0;34m\u001b[0m\u001b[0;34m\u001b[0m\u001b[0m\n\u001b[0;32m---> 11\u001b[0;31m                 \u001b[0mfunction_input\u001b[0m \u001b[0;34m=\u001b[0m \u001b[0minput\u001b[0m\u001b[0;34m(\u001b[0m\u001b[0;34m'Enter the Container to execute:'\u001b[0m\u001b[0;34m)\u001b[0m\u001b[0;34m\u001b[0m\u001b[0;34m\u001b[0m\u001b[0m\n\u001b[0m\u001b[1;32m     12\u001b[0m                 \u001b[0;32mif\u001b[0m \u001b[0mfunction_input\u001b[0m \u001b[0;34m==\u001b[0m \u001b[0;34m'hisat2'\u001b[0m \u001b[0;32mor\u001b[0m \u001b[0mfunction_input\u001b[0m \u001b[0;34m==\u001b[0m \u001b[0;34m'stringtie'\u001b[0m \u001b[0;32mor\u001b[0m \u001b[0mfunction_input\u001b[0m \u001b[0;34m==\u001b[0m \u001b[0;34m'deseq2'\u001b[0m\u001b[0;34m:\u001b[0m\u001b[0;34m\u001b[0m\u001b[0;34m\u001b[0m\u001b[0m\n\u001b[1;32m     13\u001b[0m                     \u001b[0mself\u001b[0m\u001b[0;34m.\u001b[0m\u001b[0mprinting_return\u001b[0m\u001b[0;34m(\u001b[0m\u001b[0mfunction_input\u001b[0m\u001b[0;34m)\u001b[0m\u001b[0;34m\u001b[0m\u001b[0;34m\u001b[0m\u001b[0m\n",
      "\u001b[0;32m~/anaconda3/lib/python3.8/site-packages/ipykernel/kernelbase.py\u001b[0m in \u001b[0;36mraw_input\u001b[0;34m(self, prompt)\u001b[0m\n\u001b[1;32m    858\u001b[0m                 \u001b[0;34m\"raw_input was called, but this frontend does not support input requests.\"\u001b[0m\u001b[0;34m\u001b[0m\u001b[0;34m\u001b[0m\u001b[0m\n\u001b[1;32m    859\u001b[0m             )\n\u001b[0;32m--> 860\u001b[0;31m         return self._input_request(str(prompt),\n\u001b[0m\u001b[1;32m    861\u001b[0m             \u001b[0mself\u001b[0m\u001b[0;34m.\u001b[0m\u001b[0m_parent_ident\u001b[0m\u001b[0;34m,\u001b[0m\u001b[0;34m\u001b[0m\u001b[0;34m\u001b[0m\u001b[0m\n\u001b[1;32m    862\u001b[0m             \u001b[0mself\u001b[0m\u001b[0;34m.\u001b[0m\u001b[0m_parent_header\u001b[0m\u001b[0;34m,\u001b[0m\u001b[0;34m\u001b[0m\u001b[0;34m\u001b[0m\u001b[0m\n",
      "\u001b[0;32m~/anaconda3/lib/python3.8/site-packages/ipykernel/kernelbase.py\u001b[0m in \u001b[0;36m_input_request\u001b[0;34m(self, prompt, ident, parent, password)\u001b[0m\n\u001b[1;32m    902\u001b[0m             \u001b[0;32mexcept\u001b[0m \u001b[0mKeyboardInterrupt\u001b[0m\u001b[0;34m:\u001b[0m\u001b[0;34m\u001b[0m\u001b[0;34m\u001b[0m\u001b[0m\n\u001b[1;32m    903\u001b[0m                 \u001b[0;31m# re-raise KeyboardInterrupt, to truncate traceback\u001b[0m\u001b[0;34m\u001b[0m\u001b[0;34m\u001b[0m\u001b[0;34m\u001b[0m\u001b[0m\n\u001b[0;32m--> 904\u001b[0;31m                 \u001b[0;32mraise\u001b[0m \u001b[0mKeyboardInterrupt\u001b[0m\u001b[0;34m(\u001b[0m\u001b[0;34m\"Interrupted by user\"\u001b[0m\u001b[0;34m)\u001b[0m \u001b[0;32mfrom\u001b[0m \u001b[0;32mNone\u001b[0m\u001b[0;34m\u001b[0m\u001b[0;34m\u001b[0m\u001b[0m\n\u001b[0m\u001b[1;32m    905\u001b[0m             \u001b[0;32mexcept\u001b[0m \u001b[0mException\u001b[0m \u001b[0;32mas\u001b[0m \u001b[0me\u001b[0m\u001b[0;34m:\u001b[0m\u001b[0;34m\u001b[0m\u001b[0;34m\u001b[0m\u001b[0m\n\u001b[1;32m    906\u001b[0m                 \u001b[0mself\u001b[0m\u001b[0;34m.\u001b[0m\u001b[0mlog\u001b[0m\u001b[0;34m.\u001b[0m\u001b[0mwarning\u001b[0m\u001b[0;34m(\u001b[0m\u001b[0;34m\"Invalid Message:\"\u001b[0m\u001b[0;34m,\u001b[0m \u001b[0mexc_info\u001b[0m\u001b[0;34m=\u001b[0m\u001b[0;32mTrue\u001b[0m\u001b[0;34m)\u001b[0m\u001b[0;34m\u001b[0m\u001b[0;34m\u001b[0m\u001b[0m\n",
      "\u001b[0;31mKeyboardInterrupt\u001b[0m: Interrupted by user"
     ]
    }
   ],
   "source": [
    "import docker\n",
    "\n",
    "class Exec:\n",
    "    client = docker.from_env()\n",
    "    input_command = None\n",
    "    cnt = 0\n",
    "\n",
    "    def __init__(self):\n",
    "        while(1):\n",
    "            if self.cnt == 0:\n",
    "                function_input = input('Enter the Container to execute:')\n",
    "                if function_input == 'hisat2' or function_input == 'stringtie' or function_input == 'deseq2':\n",
    "                    self.printing_return(function_input)\n",
    "                    self.cnt += 1\n",
    "                else:\n",
    "                    print(\"Wrong container name\\n enter again\")\n",
    "            else:\n",
    "                input_choice = input('Do you want to execute another container?\\n y / n\\n')\n",
    "                if input_choice == 'y' or input_choice == 'Y':\n",
    "                    function_input = input('Enter the Container to execute:')\n",
    "                    self.printing_return(function_input)\n",
    "                    self.cnt += 1\n",
    "                else:\n",
    "                    print(\"bye\")\n",
    "                    break\n",
    "                    \n",
    "\n",
    "        print(\"Total executions\",self.cnt)\n",
    "                \n",
    "\n",
    "    def hisat2(self):\n",
    "        a = self.client.containers.run('336d8edb337f',self.input_command)\n",
    "        return a\n",
    "\n",
    "    def stringtie(self):\n",
    "        b = self.client.containers.run('3aec4555231e',self.input_command)\n",
    "        return b\n",
    "\n",
    "    def deseq2(self):\n",
    "        c = self.client.containers.run('8d620dc67af7',self.input_command)\n",
    "        return c\n",
    "\n",
    "    def printing_return(self,fun):\n",
    "        self.input_command = input('Enter the Container Command')\n",
    "        if fun == 'hisat2':\n",
    "            output_hisat = self.hisat2()\n",
    "            print(output_hisat)\n",
    "        if fun == 'stringtie':\n",
    "            output_stringtie = self.stringtie()\n",
    "            print(output_stringtie)\n",
    "        if fun == 'deseq2':\n",
    "            output_deseq2 = self.deseq2()\n",
    "            print(output_deseq2)\n",
    "        else:\n",
    "            print(\"Wrong container\")\n",
    "\n",
    "class Test:\n",
    "    a = Exec()"
   ]
  }
 ],
 "metadata": {
  "kernelspec": {
   "name": "python385jvsc74a57bd07b9569140d99d56f18a75135eb8a624439e86e9b615bd911525c395d062533e1",
   "display_name": "Python 3.8.5 64-bit ('base': conda)",
   "language": "python"
  },
  "language_info": {
   "codemirror_mode": {
    "name": "ipython",
    "version": 3
   },
   "file_extension": ".py",
   "mimetype": "text/x-python",
   "name": "python",
   "nbconvert_exporter": "python",
   "pygments_lexer": "ipython3",
   "version": "3.8.5-final"
  },
  "metadata": {
   "interpreter": {
    "hash": "7b9569140d99d56f18a75135eb8a624439e86e9b615bd911525c395d062533e1"
   }
  }
 },
 "nbformat": 4,
 "nbformat_minor": 4
}