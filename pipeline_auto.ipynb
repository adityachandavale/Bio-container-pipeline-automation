{
 "metadata": {
  "language_info": {
   "codemirror_mode": {
    "name": "ipython",
    "version": 3
   },
   "file_extension": ".py",
   "mimetype": "text/x-python",
   "name": "python",
   "nbconvert_exporter": "python",
   "pygments_lexer": "ipython3",
   "version": "3.8.5-final"
  },
  "orig_nbformat": 2,
  "kernelspec": {
   "name": "python385jvsc74a57bd07b9569140d99d56f18a75135eb8a624439e86e9b615bd911525c395d062533e1",
   "display_name": "Python 3.8.5 64-bit ('base': conda)"
  },
  "metadata": {
   "interpreter": {
    "hash": "7b9569140d99d56f18a75135eb8a624439e86e9b615bd911525c395d062533e1"
   }
  }
 },
 "nbformat": 4,
 "nbformat_minor": 2,
 "cells": [
  {
   "source": [
    "# What we need:\n",
    "1) lib folder for container libraries<br>\n",
    "2) file handling mechanism<br>\n",
    "3) Exception handling<br>"
   ],
   "cell_type": "markdown",
   "metadata": {}
  },
  {
   "cell_type": "code",
   "execution_count": null,
   "metadata": {},
   "outputs": [],
   "source": [
    "import time\n",
    "from watchdog.observers import Observer\n",
    "from watchdog.events import PatternMatchingEventHandler\n",
    "\n",
    "# Event handler\n",
    "patterns = \"*\"\n",
    "ignore_patterns = \"\"\n",
    "ignore_directories = False\n",
    "case_sensitive = False\n",
    "automation_event_handler = PatternMatchingEventHandler(patterns,ignore_patterns,ignore_directories,case_sensitive)\n",
    "\n",
    "def on_created(event):\n",
    "    print(f\"Event, {event.src_path} has been created\")\n",
    "\n",
    "def on_deleted(event):\n",
    "    print(f\"Event, {event.src_path} has been deleted\")\n",
    "\n",
    "automation_event_handler.on_created = on_created\n",
    "automation_event_handler.on_deleted = on_deleted\n",
    "\n",
    "path=\"outputs\"\n",
    "go_recursively = True\n",
    "automation_observer = Observer()\n",
    "automation_observer.schedule(automation_event_handler, path, recursive=go_recursively)\n",
    "automation_observer.start()\n",
    "try:\n",
    "    while True:\n",
    "        time.sleep(1)\n",
    "except KeyboardInterrupt:\n",
    "    automation_observer.stop()\n",
    "    automation_observer.join()"
   ]
  }
 ]
}