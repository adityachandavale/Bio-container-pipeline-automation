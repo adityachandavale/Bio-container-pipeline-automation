{
 "cells": [
  {
   "cell_type": "code",
   "execution_count": null,
   "metadata": {},
   "outputs": [],
   "source": [
    "import docker\n",
    "client = docker.from_env()"
   ]
  },
  {
   "cell_type": "code",
   "execution_count": null,
   "metadata": {},
   "outputs": [],
   "source": [
    "client.containers.run('336d8edb337f',\"echo Hello world\")"
   ]
  },
  {
   "cell_type": "code",
   "execution_count": null,
   "metadata": {},
   "outputs": [],
   "source": [
    "client.images.list()"
   ]
  },
  {
   "cell_type": "code",
   "execution_count": null,
   "metadata": {},
   "outputs": [],
   "source": [
    "a  = None\n",
    "b = None \n",
    "c = None\n",
    "ch = int(input('Enter a choice for container:\\n1. Hisat2\\n2. Stringtie\\n3. DeSeq2'))\n",
    "if ch == 1:\n",
    "    a = client.containers.run('336d8edb337f',\"echo Hello from Hisat2\")\n",
    "    print(a)\n",
    "if ch == 2:\n",
    "    b = client.containers.run('3aec4555231e',\"echo Hello from Stringtie\")\n",
    "    print(b)\n",
    "if ch == 3:\n",
    "    c = client.containers.run('8d620dc67af7',\"echo Hello from DeSeq2\")\n",
    "    print(c)"
   ]
  },
  {
   "cell_type": "markdown",
   "metadata": {},
   "source": [
    "# Manual Mode"
   ]
  },
  {
   "cell_type": "code",
   "execution_count": null,
   "metadata": {},
   "outputs": [],
   "source": [
    "import os\n",
    "import os.path\n",
    "import logging\n",
    "import time\n",
    "\n",
    "from lib.hisat2_docker import hisat2\n",
    "from lib.stringtie_docker import stringtie\n",
    "from lib.deseq2_docker import deseq2\n",
    "from lib.bioconda_py import bioconda\n",
    "from lib.fastx_toolkit_docker import fastx_toolkit\n",
    "\n",
    "class Exec:\n",
    "    # Appending to log file for execution status.\n",
    "    log = open(\"logs/manual_mode_execution.txt\",\"a\")\n",
    "    log.write(\"\\nExecution start time: [ {} ]\".format(str(time.time())))\n",
    "\n",
    "    # Declaring Input command to be used for the respectively invoked Container\n",
    "    input_command = None\n",
    "    \n",
    "    # Declaring counters for execution tracking\n",
    "    cnt = 0\n",
    "    cnt_bioconda = 0\n",
    "    cnt_hisat2 = 0\n",
    "    cnt_stringtie = 0\n",
    "    cnt_deseq2 = 0\n",
    "    cnt_fastx = 0\n",
    "    \n",
    "    # Changing path to Output directory\n",
    "    path = os.path.abspath(os.path.join(os.getcwd(),'outputs'))\n",
    "    os.chdir(path)\n",
    "    \n",
    "    # Reading counter number previously appended to file\n",
    "    f = open(\"counter.txt\",\"r\")\n",
    "    a = f.read()\n",
    "    b = int(a)+1\n",
    "\n",
    "    # Writing a new number to be appended to current file.\n",
    "    f1 = open(\"counter.txt\",\"w\")\n",
    "    f1.write(str(b))\n",
    "    f1.close()\n",
    "\n",
    "    f_name = \"output_genome\" + str(b) # new appended folder name\n",
    "    os.mkdir(f_name) # create folder\n",
    "    log.write(\"\\nOutput folder name: {}\".format(f_name))\n",
    "    os.chdir(f_name) # Change program execution folder to newly created folder\n",
    "\n",
    "\n",
    "    def __init__(self):\n",
    "        while(1):\n",
    "\n",
    "            if self.cnt == 0:\n",
    "                function_input = input('Enter the Name of the Container to execute: ')\n",
    "                self.log.write(\"\\nName of container executed: {}\".format(function_input))\n",
    "\n",
    "                if function_input == 'hisat2' or function_input == 'stringtie' or function_input == 'deseq2' or function_input == 'bioconda' or function_input == 'fastx_toolkit':\n",
    "                    self.printing_return(function_input)\n",
    "                    self.cnt += 1\n",
    "                else:\n",
    "                    print(\"Wrong container name\\n enter again \")\n",
    "                    self.log.write(\"\\nError: Wrong container name specified.\")\n",
    "                    \n",
    "            else:\n",
    "                input_choice = input('Do you want to execute another container?\\n y / n\\n')\n",
    "                if input_choice == 'y' or input_choice == 'Y':\n",
    "                    function_input = input('Enter the Name of the Container to execute: ')\n",
    "                    self.log.write(\"\\nAnother container executed\\nname of container is: {}\".format(function_input))\n",
    "                    if function_input == 'hisat2' or function_input == 'stringtie' or function_input == 'deseq2' or function_input == 'bioconda' or function_input == 'fastx_toolkit':\n",
    "                        self.printing_return(function_input)\n",
    "                        self.cnt += 1\n",
    "                    else:\n",
    "                        print(\"Wrong container name\\n enter again \")\n",
    "                        self.log.write(\"\\nError: Wrong container name specified.\")\n",
    "                else:\n",
    "                    self.log.write('\\nBioconda executed {} times'.format(self.cnt_bioconda))\n",
    "                    self.log.write('\\nhisat2 executed {} times'.format(self.cnt_hisat2))\n",
    "                    self.log.write('\\nstringtie executed {} times'.format(self.cnt_stringtie))\n",
    "                    self.log.write('\\ndeseq2 executed {} times'.format(self.cnt_deseq2))\n",
    "                    self.log.write('\\nfastx_toolkit executed {} times'.format(self.cnt_fastx))\n",
    "\n",
    "                    break\n",
    "                    \n",
    "        self.log.write(\"\\nTotal executions {}\".format(self.cnt))             \n",
    "        self.log.write(\"\\n\\nExecution end time: [ {} ]\".format(str(time.time())))\n",
    "\n",
    "    def printing_return(self,fun):\n",
    "        self.input_command = input('Enter the Container Command: ')\n",
    "        self.log.write('\\nContainer command used: {}'.format(self.input_command))\n",
    "\n",
    "        if fun == 'hisat2':\n",
    "            output_hisat = hisat2(self.input_command)\n",
    "            self.cnt_hisat2 += 1\n",
    "            print(output_hisat)\n",
    "        if fun == 'stringtie':\n",
    "            output_stringtie = stringtie(self.input_command)\n",
    "            self.cnt_stringtie += 1\n",
    "            print(output_stringtie)\n",
    "        if fun == 'deseq2':\n",
    "            output_deseq2 = deseq2(self.input_command)\n",
    "            self.cnt_deseq2 += 1\n",
    "            print(output_deseq2)\n",
    "        if fun == 'fastx_toolkit':\n",
    "            output_fastx = fastx_toolkit(self.input_command)\n",
    "            self.cnt_fastx += 1\n",
    "            print(output_fastx)\n",
    "        if fun == 'bioconda':\n",
    "            output_bioconda = bioconda(self.input_command)\n",
    "            self.cnt_bioconda += 1\n",
    "            print(output_bioconda)\n",
    "\n",
    "class Test:\n",
    "    a = Exec()\n"
   ]
  },
  {
   "cell_type": "markdown",
   "metadata": {},
   "source": [
    "# BioConda:\n",
    "hisat2-build '/home/aditya/Documents/MSC-DS/Sem3/Bio-container-pipeline-automation/testing_files/sample.fna'  genome -p 2<br>\n",
    "hisat2 -x genome -U '/home/aditya/Documents/MSC-DS/Sem3/MiniProject/testing_files/genome.fastq' --threads 2 --no-unal -S '/home/aditya/Documents/MSC-DS/Sem3/MiniProject/outputs/output.sam'\n",
    "# Docker:\n",
    "hisat2-build --wrapper basic-0 -p 2 /home/aditya/Documents/MSC-DS/Sem3/Bio-container-pipeline-automation/testing_files/sample.fna genome"
   ]
  },
  {
   "cell_type": "code",
   "execution_count": 1,
   "metadata": {},
   "outputs": [
    {
     "name": "stdout",
     "output_type": "stream",
     "text": [
      "<html><script>var person = prompt(Please enter your name);if (person == null || person == ) {txt = User cancelled the prompt.} else {txt = Hello  person ! How are you today?</script></html>Hi\n"
     ]
    },
    {
     "data": {
      "text/plain": [
       "'Hi'"
      ]
     },
     "execution_count": 1,
     "metadata": {},
     "output_type": "execute_result"
    }
   ],
   "source": [
    "input(\"<html><script>var person = prompt(Please enter your name);if (person == null || person == \"\") {txt = User cancelled the prompt.} else {txt = Hello  person ! How are you today?</script></html>\")"
   ]
  },
  {
   "cell_type": "code",
   "execution_count": 3,
   "metadata": {},
   "outputs": [
    {
     "name": "stdout",
     "output_type": "stream",
     "text": [
      "Content-type: text/html\n",
      "<html> \n",
      "<head><title>My first Python CGI app</title></head> \n",
      "<body> \n",
      "<p>Hello, 'world'!</p> \n",
      "</body> \n",
      "</html>\n"
     ]
    }
   ],
   "source": [
    "import cgi \n",
    "print(\"Content-type: text/html\" )\n",
    "print(\"\"\"<html> \n",
    "<head><title>My first Python CGI app</title></head> \n",
    "<body> \n",
    "<p>Hello, 'world'!</p> \n",
    "</body> \n",
    "</html>\"\"\" )"
   ]
  },
  {
   "cell_type": "code",
   "execution_count": 11,
   "metadata": {},
   "outputs": [
    {
     "ename": "JsException",
     "evalue": "ReferenceError: prompt is not defined",
     "output_type": "error",
     "traceback": [
      "\u001b[0;31m---------------------------------------------------------------------------\u001b[0m",
      "\u001b[0;31mJsException\u001b[0m                               Traceback (most recent call last)",
      "\u001b[0;32m<ipython-input-11-5280778d3c02>\u001b[0m in \u001b[0;36m<module>\u001b[0;34m\u001b[0m\n\u001b[1;32m     13\u001b[0m \"\"\".replace(\"document.write\",\"return\")\n\u001b[1;32m     14\u001b[0m \u001b[0;34m\u001b[0m\u001b[0m\n\u001b[0;32m---> 15\u001b[0;31m \u001b[0mresult\u001b[0m \u001b[0;34m=\u001b[0m \u001b[0mjs2py\u001b[0m\u001b[0;34m.\u001b[0m\u001b[0meval_js\u001b[0m\u001b[0;34m(\u001b[0m\u001b[0mjs\u001b[0m\u001b[0;34m)\u001b[0m\u001b[0;34m\u001b[0m\u001b[0;34m\u001b[0m\u001b[0m\n\u001b[0m",
      "\u001b[0;32m~/anaconda3/lib/python3.8/site-packages/js2py/evaljs.py\u001b[0m in \u001b[0;36meval_js\u001b[0;34m(js)\u001b[0m\n\u001b[1;32m    113\u001b[0m        \"\"\"\n\u001b[1;32m    114\u001b[0m     \u001b[0me\u001b[0m \u001b[0;34m=\u001b[0m \u001b[0mEvalJs\u001b[0m\u001b[0;34m(\u001b[0m\u001b[0;34m)\u001b[0m\u001b[0;34m\u001b[0m\u001b[0;34m\u001b[0m\u001b[0m\n\u001b[0;32m--> 115\u001b[0;31m     \u001b[0;32mreturn\u001b[0m \u001b[0me\u001b[0m\u001b[0;34m.\u001b[0m\u001b[0meval\u001b[0m\u001b[0;34m(\u001b[0m\u001b[0mjs\u001b[0m\u001b[0;34m)\u001b[0m\u001b[0;34m\u001b[0m\u001b[0;34m\u001b[0m\u001b[0m\n\u001b[0m\u001b[1;32m    116\u001b[0m \u001b[0;34m\u001b[0m\u001b[0m\n\u001b[1;32m    117\u001b[0m \u001b[0;34m\u001b[0m\u001b[0m\n",
      "\u001b[0;32m~/anaconda3/lib/python3.8/site-packages/js2py/evaljs.py\u001b[0m in \u001b[0;36meval\u001b[0;34m(self, expression, use_compilation_plan)\u001b[0m\n\u001b[1;32m    202\u001b[0m         \u001b[0;34m\"\"\"evaluates expression in current context and returns its value\"\"\"\u001b[0m\u001b[0;34m\u001b[0m\u001b[0;34m\u001b[0m\u001b[0m\n\u001b[1;32m    203\u001b[0m         \u001b[0mcode\u001b[0m \u001b[0;34m=\u001b[0m \u001b[0;34m'PyJsEvalResult = eval(%s)'\u001b[0m \u001b[0;34m%\u001b[0m \u001b[0mjson\u001b[0m\u001b[0;34m.\u001b[0m\u001b[0mdumps\u001b[0m\u001b[0;34m(\u001b[0m\u001b[0mexpression\u001b[0m\u001b[0;34m)\u001b[0m\u001b[0;34m\u001b[0m\u001b[0;34m\u001b[0m\u001b[0m\n\u001b[0;32m--> 204\u001b[0;31m         \u001b[0mself\u001b[0m\u001b[0;34m.\u001b[0m\u001b[0mexecute\u001b[0m\u001b[0;34m(\u001b[0m\u001b[0mcode\u001b[0m\u001b[0;34m,\u001b[0m \u001b[0muse_compilation_plan\u001b[0m\u001b[0;34m=\u001b[0m\u001b[0muse_compilation_plan\u001b[0m\u001b[0;34m)\u001b[0m\u001b[0;34m\u001b[0m\u001b[0;34m\u001b[0m\u001b[0m\n\u001b[0m\u001b[1;32m    205\u001b[0m         \u001b[0;32mreturn\u001b[0m \u001b[0mself\u001b[0m\u001b[0;34m[\u001b[0m\u001b[0;34m'PyJsEvalResult'\u001b[0m\u001b[0;34m]\u001b[0m\u001b[0;34m\u001b[0m\u001b[0;34m\u001b[0m\u001b[0m\n\u001b[1;32m    206\u001b[0m \u001b[0;34m\u001b[0m\u001b[0m\n",
      "\u001b[0;32m~/anaconda3/lib/python3.8/site-packages/js2py/evaljs.py\u001b[0m in \u001b[0;36mexecute\u001b[0;34m(self, js, use_compilation_plan)\u001b[0m\n\u001b[1;32m    197\u001b[0m             compiled = cache[hashkey] = compile(code, '<EvalJS snippet>',\n\u001b[1;32m    198\u001b[0m                                                 'exec')\n\u001b[0;32m--> 199\u001b[0;31m         \u001b[0mexec\u001b[0m \u001b[0;34m(\u001b[0m\u001b[0mcompiled\u001b[0m\u001b[0;34m,\u001b[0m \u001b[0mself\u001b[0m\u001b[0;34m.\u001b[0m\u001b[0m_context\u001b[0m\u001b[0;34m)\u001b[0m\u001b[0;34m\u001b[0m\u001b[0;34m\u001b[0m\u001b[0m\n\u001b[0m\u001b[1;32m    200\u001b[0m \u001b[0;34m\u001b[0m\u001b[0m\n\u001b[1;32m    201\u001b[0m     \u001b[0;32mdef\u001b[0m \u001b[0meval\u001b[0m\u001b[0;34m(\u001b[0m\u001b[0mself\u001b[0m\u001b[0;34m,\u001b[0m \u001b[0mexpression\u001b[0m\u001b[0;34m,\u001b[0m \u001b[0muse_compilation_plan\u001b[0m\u001b[0;34m=\u001b[0m\u001b[0;32mFalse\u001b[0m\u001b[0;34m)\u001b[0m\u001b[0;34m:\u001b[0m\u001b[0;34m\u001b[0m\u001b[0;34m\u001b[0m\u001b[0m\n",
      "\u001b[0;32m<EvalJS snippet>\u001b[0m in \u001b[0;36m<module>\u001b[0;34m\u001b[0m\n",
      "\u001b[0;32m~/anaconda3/lib/python3.8/site-packages/js2py/base.py\u001b[0m in \u001b[0;36m__call__\u001b[0;34m(self, *args)\u001b[0m\n\u001b[1;32m    947\u001b[0m             raise MakeError('TypeError',\n\u001b[1;32m    948\u001b[0m                             '%s is not a function' % self.typeof())\n\u001b[0;32m--> 949\u001b[0;31m         \u001b[0;32mreturn\u001b[0m \u001b[0mself\u001b[0m\u001b[0;34m.\u001b[0m\u001b[0mcall\u001b[0m\u001b[0;34m(\u001b[0m\u001b[0mself\u001b[0m\u001b[0;34m.\u001b[0m\u001b[0mGlobalObject\u001b[0m\u001b[0;34m,\u001b[0m \u001b[0margs\u001b[0m\u001b[0;34m)\u001b[0m\u001b[0;34m\u001b[0m\u001b[0;34m\u001b[0m\u001b[0m\n\u001b[0m\u001b[1;32m    950\u001b[0m \u001b[0;34m\u001b[0m\u001b[0m\n\u001b[1;32m    951\u001b[0m     \u001b[0;32mdef\u001b[0m \u001b[0mcreate\u001b[0m\u001b[0;34m(\u001b[0m\u001b[0mself\u001b[0m\u001b[0;34m,\u001b[0m \u001b[0;34m*\u001b[0m\u001b[0margs\u001b[0m\u001b[0;34m)\u001b[0m\u001b[0;34m:\u001b[0m\u001b[0;34m\u001b[0m\u001b[0;34m\u001b[0m\u001b[0m\n",
      "\u001b[0;32m~/anaconda3/lib/python3.8/site-packages/js2py/base.py\u001b[0m in \u001b[0;36mcall\u001b[0;34m(self, this, args)\u001b[0m\n\u001b[1;32m   1462\u001b[0m         \u001b[0margs\u001b[0m \u001b[0;34m+=\u001b[0m \u001b[0mthis\u001b[0m\u001b[0;34m,\u001b[0m \u001b[0marguments\u001b[0m  \u001b[0;31m#append extra params to the arg list\u001b[0m\u001b[0;34m\u001b[0m\u001b[0;34m\u001b[0m\u001b[0m\n\u001b[1;32m   1463\u001b[0m         \u001b[0;32mtry\u001b[0m\u001b[0;34m:\u001b[0m\u001b[0;34m\u001b[0m\u001b[0;34m\u001b[0m\u001b[0m\n\u001b[0;32m-> 1464\u001b[0;31m             \u001b[0;32mreturn\u001b[0m \u001b[0mJs\u001b[0m\u001b[0;34m(\u001b[0m\u001b[0mself\u001b[0m\u001b[0;34m.\u001b[0m\u001b[0mcode\u001b[0m\u001b[0;34m(\u001b[0m\u001b[0;34m*\u001b[0m\u001b[0margs\u001b[0m\u001b[0;34m)\u001b[0m\u001b[0;34m)\u001b[0m\u001b[0;34m\u001b[0m\u001b[0;34m\u001b[0m\u001b[0m\n\u001b[0m\u001b[1;32m   1465\u001b[0m         \u001b[0;32mexcept\u001b[0m \u001b[0mNotImplementedError\u001b[0m\u001b[0;34m:\u001b[0m\u001b[0;34m\u001b[0m\u001b[0;34m\u001b[0m\u001b[0m\n\u001b[1;32m   1466\u001b[0m             \u001b[0;32mraise\u001b[0m\u001b[0;34m\u001b[0m\u001b[0;34m\u001b[0m\u001b[0m\n",
      "\u001b[0;32m~/anaconda3/lib/python3.8/site-packages/js2py/host/jseval.py\u001b[0m in \u001b[0;36mEval\u001b[0;34m(code, this, arguments)\u001b[0m\n\u001b[1;32m     43\u001b[0m                 \u001b[0;32mbreak\u001b[0m\u001b[0;34m\u001b[0m\u001b[0;34m\u001b[0m\u001b[0m\n\u001b[1;32m     44\u001b[0m     \u001b[0;31m#print py_code\u001b[0m\u001b[0;34m\u001b[0m\u001b[0;34m\u001b[0m\u001b[0;34m\u001b[0m\u001b[0m\n\u001b[0;32m---> 45\u001b[0;31m     \u001b[0mexecutor\u001b[0m\u001b[0;34m(\u001b[0m\u001b[0mpy_code\u001b[0m\u001b[0;34m)\u001b[0m\u001b[0;34m\u001b[0m\u001b[0;34m\u001b[0m\u001b[0m\n\u001b[0m\u001b[1;32m     46\u001b[0m     \u001b[0;32mif\u001b[0m \u001b[0mhas_return\u001b[0m\u001b[0;34m:\u001b[0m\u001b[0;34m\u001b[0m\u001b[0;34m\u001b[0m\u001b[0m\n\u001b[1;32m     47\u001b[0m         \u001b[0;32mreturn\u001b[0m \u001b[0mglobals\u001b[0m\u001b[0;34m(\u001b[0m\u001b[0;34m)\u001b[0m\u001b[0;34m[\u001b[0m\u001b[0;34m'EVAL_RESULT'\u001b[0m\u001b[0;34m]\u001b[0m\u001b[0;34m\u001b[0m\u001b[0;34m\u001b[0m\u001b[0m\n",
      "\u001b[0;32m~/anaconda3/lib/python3.8/site-packages/js2py/host/jseval.py\u001b[0m in \u001b[0;36mexecutor\u001b[0;34m(code)\u001b[0m\n\u001b[1;32m     49\u001b[0m \u001b[0;34m\u001b[0m\u001b[0m\n\u001b[1;32m     50\u001b[0m \u001b[0;32mdef\u001b[0m \u001b[0mexecutor\u001b[0m\u001b[0;34m(\u001b[0m\u001b[0mcode\u001b[0m\u001b[0;34m)\u001b[0m\u001b[0;34m:\u001b[0m\u001b[0;34m\u001b[0m\u001b[0;34m\u001b[0m\u001b[0m\n\u001b[0;32m---> 51\u001b[0;31m     \u001b[0mexec\u001b[0m \u001b[0;34m(\u001b[0m\u001b[0mcode\u001b[0m\u001b[0;34m,\u001b[0m \u001b[0mglobals\u001b[0m\u001b[0;34m(\u001b[0m\u001b[0;34m)\u001b[0m\u001b[0;34m)\u001b[0m\u001b[0;34m\u001b[0m\u001b[0;34m\u001b[0m\u001b[0m\n\u001b[0m",
      "\u001b[0;32m~/anaconda3/lib/python3.8/site-packages/js2py/host/jseval.py\u001b[0m in \u001b[0;36m<module>\u001b[0;34m\u001b[0m\n",
      "\u001b[0;32m~/anaconda3/lib/python3.8/site-packages/js2py/base.py\u001b[0m in \u001b[0;36mget\u001b[0;34m(self, prop, throw)\u001b[0m\n\u001b[1;32m   1156\u001b[0m         \u001b[0;32mif\u001b[0m \u001b[0mprop\u001b[0m \u001b[0;32mnot\u001b[0m \u001b[0;32min\u001b[0m \u001b[0mself\u001b[0m\u001b[0;34m.\u001b[0m\u001b[0mown\u001b[0m\u001b[0;34m:\u001b[0m\u001b[0;34m\u001b[0m\u001b[0;34m\u001b[0m\u001b[0m\n\u001b[1;32m   1157\u001b[0m             \u001b[0;32mif\u001b[0m \u001b[0mthrow\u001b[0m\u001b[0;34m:\u001b[0m\u001b[0;34m\u001b[0m\u001b[0;34m\u001b[0m\u001b[0m\n\u001b[0;32m-> 1158\u001b[0;31m                 \u001b[0;32mraise\u001b[0m \u001b[0mMakeError\u001b[0m\u001b[0;34m(\u001b[0m\u001b[0;34m'ReferenceError'\u001b[0m\u001b[0;34m,\u001b[0m \u001b[0;34m'%s is not defined'\u001b[0m \u001b[0;34m%\u001b[0m \u001b[0mprop\u001b[0m\u001b[0;34m)\u001b[0m\u001b[0;34m\u001b[0m\u001b[0;34m\u001b[0m\u001b[0m\n\u001b[0m\u001b[1;32m   1159\u001b[0m             \u001b[0;32mreturn\u001b[0m \u001b[0mundefined\u001b[0m\u001b[0;34m\u001b[0m\u001b[0;34m\u001b[0m\u001b[0m\n\u001b[1;32m   1160\u001b[0m         \u001b[0;32mreturn\u001b[0m \u001b[0mPyJs\u001b[0m\u001b[0;34m.\u001b[0m\u001b[0mget\u001b[0m\u001b[0;34m(\u001b[0m\u001b[0mself\u001b[0m\u001b[0;34m,\u001b[0m \u001b[0mprop\u001b[0m\u001b[0;34m)\u001b[0m\u001b[0;34m\u001b[0m\u001b[0;34m\u001b[0m\u001b[0m\n",
      "\u001b[0;31mJsException\u001b[0m: ReferenceError: prompt is not defined"
     ]
    }
   ],
   "source": [
    "import js2py\n",
    "\n",
    "js = \"\"\"\n",
    "\n",
    "function person_text(){\n",
    "var person = prompt(\"Please enter your name\");\n",
    "if (person == null || person == \"\") {\n",
    "  txt = \"User cancelled the prompt.\";\n",
    "} else {\n",
    "  txt = \"Hello \" + person + \"! How are you today?\";\n",
    "}\n",
    "document.write(txt);\n",
    "}\n",
    "\"\"\".replace(\"document.write\",\"return\")\n",
    "\n",
    "result = js2py.eval_js(js)"
   ]
  }
 ],
 "metadata": {
  "kernelspec": {
   "display_name": "Python 3.8.5 64-bit ('base': conda)",
   "language": "python",
   "name": "python385jvsc74a57bd07b9569140d99d56f18a75135eb8a624439e86e9b615bd911525c395d062533e1"
  },
  "language_info": {
   "codemirror_mode": {
    "name": "ipython",
    "version": 3
   },
   "file_extension": ".py",
   "mimetype": "text/x-python",
   "name": "python",
   "nbconvert_exporter": "python",
   "pygments_lexer": "ipython3",
   "version": "3.8.5"
  },
  "metadata": {
   "interpreter": {
    "hash": "7b9569140d99d56f18a75135eb8a624439e86e9b615bd911525c395d062533e1"
   }
  }
 },
 "nbformat": 4,
 "nbformat_minor": 4
}
